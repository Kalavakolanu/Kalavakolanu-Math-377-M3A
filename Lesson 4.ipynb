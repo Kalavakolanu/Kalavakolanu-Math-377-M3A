{
 "cells": [
  {
   "cell_type": "markdown",
   "metadata": {},
   "source": [
    "# Lesson 4\n",
    "## Data Types"
   ]
  },
  {
   "cell_type": "markdown",
   "metadata": {},
   "source": [
    "### 1\n",
    "Create 3 variables for name (first and last), age and hometown. Assign to these\n",
    "variables your own name, age and hometown. Now, recreate the following sentence\n",
    "using variable assignment and the ‘print’ command in Python:\n",
    "“I am &lt;Your name here&gt;. I am &lt;age&gt; years old. I’m from &lt;hometown&gt;”"
   ]
  },
  {
   "cell_type": "code",
   "execution_count": 1,
   "metadata": {},
   "outputs": [],
   "source": [
    "name = \"Nishanth Kalavakolanu\"\n",
    "age ='19'\n",
    "hometown='Austin, Texas'"
   ]
  },
  {
   "cell_type": "code",
   "execution_count": 41,
   "metadata": {},
   "outputs": [
    {
     "name": "stdout",
     "output_type": "stream",
     "text": [
      "I am Nishanth Kalavakolanu. I am 19 years old. I'm from Austin, Texas.\n"
     ]
    }
   ],
   "source": [
    "print('I am '+name+'. I am '+age+ \" years old. I'm from \"+hometown+'.')"
   ]
  },
  {
   "cell_type": "markdown",
   "metadata": {},
   "source": [
    "#### a)\n",
    "Now, use a string method to make your name lower case. Print the all lower case\n",
    "version of your name."
   ]
  },
  {
   "cell_type": "code",
   "execution_count": 16,
   "metadata": {},
   "outputs": [
    {
     "name": "stdout",
     "output_type": "stream",
     "text": [
      "nishanth kalavakolanu\n"
     ]
    }
   ],
   "source": [
    "print(name.lower())"
   ]
  },
  {
   "cell_type": "markdown",
   "metadata": {},
   "source": [
    "#### b)\n",
    "Now use a string method to make your full name a proper noun. Print this version of\n",
    "your name."
   ]
  },
  {
   "cell_type": "code",
   "execution_count": 17,
   "metadata": {},
   "outputs": [
    {
     "name": "stdout",
     "output_type": "stream",
     "text": [
      "Nishanth Kalavakolanu\n"
     ]
    }
   ],
   "source": [
    "print(name.title())"
   ]
  },
  {
   "cell_type": "markdown",
   "metadata": {},
   "source": [
    "### 2)\n",
    "Using the ‘replace’ method, replace all “I am” with “he is” or “she is” and all “I’m” with\n",
    "“he’s” or “she’s”."
   ]
  },
  {
   "cell_type": "code",
   "execution_count": 42,
   "metadata": {},
   "outputs": [],
   "source": [
    "intro='I am '+name+'. I am '+age+ \" years old. I'm from \"+hometown+'.'"
   ]
  },
  {
   "cell_type": "code",
   "execution_count": 43,
   "metadata": {},
   "outputs": [
    {
     "name": "stdout",
     "output_type": "stream",
     "text": [
      "I am Nishanth Kalavakolanu. I am 19 years old. I'm from Austin, Texas.\n"
     ]
    }
   ],
   "source": [
    "print(intro)"
   ]
  },
  {
   "cell_type": "code",
   "execution_count": 49,
   "metadata": {},
   "outputs": [
    {
     "data": {
      "text/plain": [
       "\"He is Nishanth Kalavakolanu. He is 19 years old. He's from Austin, Texas.\""
      ]
     },
     "execution_count": 49,
     "metadata": {},
     "output_type": "execute_result"
    }
   ],
   "source": [
    "intro.replace('I am', 'He is', 3).replace(\"I'm\", \"He's\", 1)"
   ]
  },
  {
   "cell_type": "markdown",
   "metadata": {},
   "source": [
    "### 3)\n",
    "Return a boolean response indicating whether the length of your original sentence (in\n",
    "#1) is greater than your age plus 40."
   ]
  },
  {
   "cell_type": "code",
   "execution_count": 50,
   "metadata": {},
   "outputs": [],
   "source": [
    "char_count=len(intro)"
   ]
  },
  {
   "cell_type": "code",
   "execution_count": 53,
   "metadata": {},
   "outputs": [
    {
     "data": {
      "text/plain": [
       "True"
      ]
     },
     "execution_count": 53,
     "metadata": {},
     "output_type": "execute_result"
    }
   ],
   "source": [
    "char_count>(int(age)+40)"
   ]
  }
 ],
 "metadata": {
  "kernelspec": {
   "display_name": "Python 3",
   "language": "python",
   "name": "python3"
  },
  "language_info": {
   "codemirror_mode": {
    "name": "ipython",
    "version": 3
   },
   "file_extension": ".py",
   "mimetype": "text/x-python",
   "name": "python",
   "nbconvert_exporter": "python",
   "pygments_lexer": "ipython3",
   "version": "3.6.5"
  }
 },
 "nbformat": 4,
 "nbformat_minor": 2
}
